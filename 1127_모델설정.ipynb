{
  "nbformat": 4,
  "nbformat_minor": 0,
  "metadata": {
    "colab": {
      "provenance": [],
      "authorship_tag": "ABX9TyOqXOFtsOfSBxpoMP9cv36K",
      "include_colab_link": true
    },
    "kernelspec": {
      "name": "python3",
      "display_name": "Python 3"
    },
    "language_info": {
      "name": "python"
    }
  },
  "cells": [
    {
      "cell_type": "markdown",
      "metadata": {
        "id": "view-in-github",
        "colab_type": "text"
      },
      "source": [
        "<a href=\"https://colab.research.google.com/github/seohyun126/DeepLearning-TensorFlow/blob/main/1127_%EB%AA%A8%EB%8D%B8%EC%84%A4%EC%A0%95.ipynb\" target=\"_parent\"><img src=\"https://colab.research.google.com/assets/colab-badge.svg\" alt=\"Open In Colab\"/></a>"
      ]
    },
    {
      "cell_type": "markdown",
      "source": [
        "## 4 모델 세부 설정\n",
        "데이터 정규화까지 처리하여 입력 데이터를 준비\n",
        "\n",
        "87-95, 105-115"
      ],
      "metadata": {
        "id": "kmUe5yvzpsRh"
      }
    },
    {
      "cell_type": "code",
      "execution_count": null,
      "metadata": {
        "id": "ZdkMVoz8pjI_"
      },
      "outputs": [],
      "source": [
        "import tensorflow as tf\n",
        "# 케라스의 내장 데이터 셋에서 mnist 데이터셋 로드하기\n",
        "mnist=tf.keras.datasets.mnist\n",
        "# load_data()로 데이터셋 로드\n",
        "(x_train,y_train),(x_test,y_test)=mnist.load_data()\n",
        "# 로드된 데이터 셋 확인\n",
        "print('train set',x_train.shape,y_train.shape)\n",
        "print('test set',x_test.shape,y_test.shape)\n",
        "# 데이터 정규화\n",
        "x_train=x_train/x_train.max() # max:255\n",
        "x_test=x_test/x_test.max() # max:255"
      ]
    },
    {
      "cell_type": "code",
      "source": [
        "# 4-1 초기값 설정\n",
        "dense=tf.keras.layers.Dense(256,activation='relu')\n",
        "# dense 레이어는 기본 초기화 방법으로 glorot uniform 초기화 방법이 설정되어 있음\n",
        "# 이를 henoraml로 변경하기 위해서는 kernel_initializer 매개변수 설정하면 됨\n",
        "dense.get_config()['kernel_initializer']\n",
        "# 문자열 초기화\n",
        "dense=tf.keras.layers.Dense(256,kernel_initializer='he_normal',activation='relu')\n",
        "print(dense.get_config()['kernel_initializer'])\n",
        "# 클래스 인스턴스 초기화\n",
        "he_normal=tf.keras.initializers.HeNormal()\n",
        "dense=tf.keras.layers.Dense(256,kernel_initializer=he_normal,activation='relu')\n",
        "print(dense.get_config()['kernel_initializer'])"
      ],
      "metadata": {
        "id": "LITgG_bNprlN"
      },
      "execution_count": null,
      "outputs": []
    },
    {
      "cell_type": "code",
      "source": [
        "# 4-2 규제\n",
        "# 모델의 과대적합을 해소하기 위해 l1,l2 규제를 적용\n",
        "# 텐서플로 케라스 레이어는 기본값으로 규제를 적용하지 않음\n",
        "# 기본값\n",
        "dense=tf.keras.layers.Dense(256,activation='relu')\n",
        "dense.get_config()"
      ],
      "metadata": {
        "id": "tG8Jnm6eqmys"
      },
      "execution_count": null,
      "outputs": []
    },
    {
      "cell_type": "code",
      "source": [
        "# l2 규제 적용\n",
        "dense=tf.keras.layers.Dense(256,kernel_regularizer='l1',activation='relu')\n",
        "print(dense.get_config()['kernel_regularizer'])\n",
        "# 클래스 인스턴스 적용. alpha=0.1 변경\n",
        "regularizer=tf.keras.regularizers.l1(l1=0.1)\n",
        "dense=tf.keras.layers.Dense(256,kernel_regularizer=regularizer,activation='relu')\n",
        "print(dense.get_config()['kernel_regularizer'])"
      ],
      "metadata": {
        "id": "3Jiq1_i_qnJB"
      },
      "execution_count": null,
      "outputs": []
    },
    {
      "cell_type": "code",
      "source": [
        "# 4-3 드롭아웃\n",
        "# 모델이 훈련할 때는 드롭아웃이 적용되어 노드 중 일부만 훈련 -> 과대적합 방지\n",
        "# 예측 시점에서는 모든 노드들이 활용됨\n",
        "# Dropout 25% 비율 적용\n",
        "tf.keras.layers.Dropout(0.25)"
      ],
      "metadata": {
        "id": "vMwYEDVTqnrm"
      },
      "execution_count": null,
      "outputs": []
    },
    {
      "cell_type": "code",
      "source": [
        "# 4-4 배치 정규화\n",
        "# 각 층에서 활성화 함수를 통과하기 전 미니 배치 스케일을 정규화\n",
        "# 다음 층으로 데이터가 전달되기 전에 스케일을 조정하여 성능 향상\n",
        "# model_a: Dense+ReLu\n",
        "model_a=tf.keras.Sequential([\n",
        "    tf.keras.layers.Flatten(input_shape=(28,28)),\n",
        "    tf.keras.layers.Dense(64,activation='relu'),\n",
        "    tf.keras.layers.Dense(32,activation='relu'),\n",
        "    tf.keras.layers.Dense(10,activation='softmax'),\n",
        "])\n",
        "model_a.summary()"
      ],
      "metadata": {
        "id": "DaJJ2d7dqoC6"
      },
      "execution_count": null,
      "outputs": []
    },
    {
      "cell_type": "code",
      "source": [
        "# model_b: Dense+BatchNorm+ReLu\n",
        "model_b=tf.keras.Sequential([\n",
        "    tf.keras.layers.Flatten(input_shape=(28,28)),\n",
        "    tf.keras.layers.Dense(64),\n",
        "    # 배치 정규화 적용\n",
        "    tf.keras.layers.BatchNormalization(),\n",
        "    # 배치 정규화 이후 활성화 함수 이용\n",
        "    tf.keras.layers.Activation('relu'),\n",
        "    tf.keras.layers.Dense(32),\n",
        "    # 배치 정규화 적용\n",
        "    tf.keras.layers.BatchNormalization(),\n",
        "    # 배치 정규화 이후 활성화 함수 이용\n",
        "    tf.keras.layers.Activation('relu'),\n",
        "    tf.keras.layers.Dense(10,activation='softmax'),\n",
        "])\n",
        "model_b.summary()"
      ],
      "metadata": {
        "id": "62k5nw70xRSU"
      },
      "execution_count": null,
      "outputs": []
    },
    {
      "cell_type": "code",
      "source": [
        "# 4-5 활성화함수\n",
        "# dense레이어에서는 주로 relu 지정\n",
        "# 활성화함수 적용할 때, 클래스 인스턴스로 선언하여 하이퍼파라미터값을 변경하여 사용\n",
        "# LeakyReLu 기본 설정\n",
        "tf.keras.layers.LeakyReLU()\n",
        "# LeakyReLu alpha=0.2로 변경\n",
        "tf.keras.layers.LeakyReLU(alpha=0.2)"
      ],
      "metadata": {
        "id": "SDBZ8DHVxRPB"
      },
      "execution_count": null,
      "outputs": []
    },
    {
      "cell_type": "code",
      "source": [
        "# model_c: Dense+BatchNorm+LeakyReLu alpha=0.2\n",
        "model_c=tf.keras.Sequential([\n",
        "    tf.keras.layers.Flatten(input_shape=(28,28)),\n",
        "    tf.keras.layers.Dense(64),\n",
        "    # 배치 정규화 적용\n",
        "    tf.keras.layers.BatchNormalization(),\n",
        "    # 배치 정규화 이후 활성화 함수 이용\n",
        "    tf.keras.layers.LeakyReLU(alpha=0.2),\n",
        "    tf.keras.layers.Dense(32),\n",
        "    # 배치 정규화 적용\n",
        "    tf.keras.layers.BatchNormalization(),\n",
        "    # 배치 정규화 이후 활성화 함수 이용\n",
        "    tf.keras.layers.LeakyReLU(alpha=0.2),\n",
        "    tf.keras.layers.Dense(10,activation='softmax'),\n",
        "])\n",
        "model_c.summary()"
      ],
      "metadata": {
        "colab": {
          "base_uri": "https://localhost:8080/"
        },
        "id": "e7Q5pJFXxRKp",
        "outputId": "8c34c7ab-d40f-4168-f882-15480e5d1044"
      },
      "execution_count": 9,
      "outputs": [
        {
          "metadata": {
            "tags": null
          },
          "name": "stdout",
          "output_type": "stream",
          "text": [
            "Model: \"sequential_2\"\n",
            "_________________________________________________________________\n",
            " Layer (type)                Output Shape              Param #   \n",
            "=================================================================\n",
            " flatten_2 (Flatten)         (None, 784)               0         \n",
            "                                                                 \n",
            " dense_12 (Dense)            (None, 64)                50240     \n",
            "                                                                 \n",
            " batch_normalization_2 (Bat  (None, 64)                256       \n",
            " chNormalization)                                                \n",
            "                                                                 \n",
            " leaky_re_lu_2 (LeakyReLU)   (None, 64)                0         \n",
            "                                                                 \n",
            " dense_13 (Dense)            (None, 32)                2080      \n",
            "                                                                 \n",
            " batch_normalization_3 (Bat  (None, 32)                128       \n",
            " chNormalization)                                                \n",
            "                                                                 \n",
            " leaky_re_lu_3 (LeakyReLU)   (None, 32)                0         \n",
            "                                                                 \n",
            " dense_14 (Dense)            (None, 10)                330       \n",
            "                                                                 \n",
            "=================================================================\n",
            "Total params: 53034 (207.16 KB)\n",
            "Trainable params: 52842 (206.41 KB)\n",
            "Non-trainable params: 192 (768.00 Byte)\n",
            "_________________________________________________________________\n"
          ]
        }
      ]
    },
    {
      "cell_type": "code",
      "source": [
        "# 총 3개의 모델 수렴 속도 확인\n",
        "model_a.compile(optimizer='adam',loss='sparse_categorical_crossentropy',metrics=['accuracy'])\n",
        "model_b.compile(optimizer='adam',loss='sparse_categorical_crossentropy',metrics=['accuracy'])\n",
        "model_c.compile(optimizer='adam',loss='sparse_categorical_crossentropy',metrics=['accuracy'])\n",
        "# model_a: Dense+ReLu\n",
        "history_a=model_a.fit(x_train,y_train,validation_data=(x_test,y_test),epochs=10)\n",
        "# model_b: Dense+BatchNorm+ReLu\n",
        "history_b=model_b.fit(x_train,y_train,validation_data=(x_test,y_test),epochs=10)\n",
        "# model_c: Dense+BatchNorm+LeakyReLu alpha=0.2\n",
        "history_c=model_c.fit(x_train,y_train,validation_data=(x_test,y_test),epochs=10)\n",
        "\n",
        "import matplotlib.pyplot as plt\n",
        "import numpy as np\n",
        "plt.plot(np.arange(1,11),history_a.history['val_loss'],color='navy',linestyle=':')\n",
        "plt.plot(np.arange(1,11),history_b.history['val_loss'],color='tomato',linestyle='-.')\n",
        "plt.plot(np.arange(1,11),history_c.history['val_loss'],color='green',linestyle='-')\n",
        "\n",
        "plt.title('LOSSES',fontsize=20)\n",
        "plt.xlabel('epochs')\n",
        "plt.ylabel('losses')\n",
        "plt.legend(['ReLU','BatchNorm+ReLU','BatchNorm+LeakyReLU'],fontsize=12)\n",
        "plt.show()\n"
      ],
      "metadata": {
        "colab": {
          "base_uri": "https://localhost:8080/",
          "height": 1000
        },
        "id": "JlDXO_gQxRHN",
        "outputId": "1a48e556-6fed-4e49-fea1-b1c7bf64f7a6"
      },
      "execution_count": 10,
      "outputs": [
        {
          "output_type": "stream",
          "name": "stdout",
          "text": [
            "Epoch 1/10\n",
            "1875/1875 [==============================] - 6s 3ms/step - loss: 0.2893 - accuracy: 0.9160 - val_loss: 0.1625 - val_accuracy: 0.9507\n",
            "Epoch 2/10\n",
            "1875/1875 [==============================] - 6s 3ms/step - loss: 0.1362 - accuracy: 0.9601 - val_loss: 0.1251 - val_accuracy: 0.9605\n",
            "Epoch 3/10\n",
            "1875/1875 [==============================] - 5s 3ms/step - loss: 0.0988 - accuracy: 0.9701 - val_loss: 0.0998 - val_accuracy: 0.9686\n",
            "Epoch 4/10\n",
            "1875/1875 [==============================] - 6s 3ms/step - loss: 0.0781 - accuracy: 0.9753 - val_loss: 0.0989 - val_accuracy: 0.9693\n",
            "Epoch 5/10\n",
            "1875/1875 [==============================] - 6s 3ms/step - loss: 0.0656 - accuracy: 0.9793 - val_loss: 0.0889 - val_accuracy: 0.9730\n",
            "Epoch 6/10\n",
            "1875/1875 [==============================] - 5s 3ms/step - loss: 0.0526 - accuracy: 0.9832 - val_loss: 0.0890 - val_accuracy: 0.9720\n",
            "Epoch 7/10\n",
            "1875/1875 [==============================] - 6s 3ms/step - loss: 0.0457 - accuracy: 0.9853 - val_loss: 0.0832 - val_accuracy: 0.9768\n",
            "Epoch 8/10\n",
            "1875/1875 [==============================] - 5s 3ms/step - loss: 0.0392 - accuracy: 0.9871 - val_loss: 0.0880 - val_accuracy: 0.9738\n",
            "Epoch 9/10\n",
            "1875/1875 [==============================] - 6s 3ms/step - loss: 0.0349 - accuracy: 0.9888 - val_loss: 0.0928 - val_accuracy: 0.9742\n",
            "Epoch 10/10\n",
            "1875/1875 [==============================] - 5s 3ms/step - loss: 0.0314 - accuracy: 0.9894 - val_loss: 0.0981 - val_accuracy: 0.9743\n",
            "Epoch 1/10\n",
            "1875/1875 [==============================] - 8s 4ms/step - loss: 0.3276 - accuracy: 0.9095 - val_loss: 0.1318 - val_accuracy: 0.9617\n",
            "Epoch 2/10\n",
            "1875/1875 [==============================] - 6s 3ms/step - loss: 0.1421 - accuracy: 0.9571 - val_loss: 0.1088 - val_accuracy: 0.9673\n",
            "Epoch 3/10\n",
            "1875/1875 [==============================] - 7s 3ms/step - loss: 0.1101 - accuracy: 0.9655 - val_loss: 0.0959 - val_accuracy: 0.9700\n",
            "Epoch 4/10\n",
            "1875/1875 [==============================] - 7s 3ms/step - loss: 0.0954 - accuracy: 0.9699 - val_loss: 0.0909 - val_accuracy: 0.9727\n",
            "Epoch 5/10\n",
            "1875/1875 [==============================] - 6s 3ms/step - loss: 0.0842 - accuracy: 0.9735 - val_loss: 0.0833 - val_accuracy: 0.9759\n",
            "Epoch 6/10\n",
            "1875/1875 [==============================] - 7s 4ms/step - loss: 0.0746 - accuracy: 0.9757 - val_loss: 0.0779 - val_accuracy: 0.9760\n",
            "Epoch 7/10\n",
            "1875/1875 [==============================] - 6s 3ms/step - loss: 0.0675 - accuracy: 0.9787 - val_loss: 0.0750 - val_accuracy: 0.9770\n",
            "Epoch 8/10\n",
            "1875/1875 [==============================] - 8s 4ms/step - loss: 0.0622 - accuracy: 0.9799 - val_loss: 0.0801 - val_accuracy: 0.9754\n",
            "Epoch 9/10\n",
            "1875/1875 [==============================] - 6s 3ms/step - loss: 0.0565 - accuracy: 0.9817 - val_loss: 0.0833 - val_accuracy: 0.9766\n",
            "Epoch 10/10\n",
            "1875/1875 [==============================] - 7s 4ms/step - loss: 0.0537 - accuracy: 0.9824 - val_loss: 0.0801 - val_accuracy: 0.9764\n",
            "Epoch 1/10\n",
            "1875/1875 [==============================] - 7s 3ms/step - loss: 0.3264 - accuracy: 0.9082 - val_loss: 0.1451 - val_accuracy: 0.9554\n",
            "Epoch 2/10\n",
            "1875/1875 [==============================] - 7s 4ms/step - loss: 0.1582 - accuracy: 0.9521 - val_loss: 0.1254 - val_accuracy: 0.9611\n",
            "Epoch 3/10\n",
            "1875/1875 [==============================] - 6s 3ms/step - loss: 0.1234 - accuracy: 0.9620 - val_loss: 0.1043 - val_accuracy: 0.9676\n",
            "Epoch 4/10\n",
            "1875/1875 [==============================] - 7s 4ms/step - loss: 0.1059 - accuracy: 0.9673 - val_loss: 0.0957 - val_accuracy: 0.9705\n",
            "Epoch 5/10\n",
            "1875/1875 [==============================] - 6s 3ms/step - loss: 0.0938 - accuracy: 0.9699 - val_loss: 0.0826 - val_accuracy: 0.9751\n",
            "Epoch 6/10\n",
            "1875/1875 [==============================] - 7s 4ms/step - loss: 0.0838 - accuracy: 0.9731 - val_loss: 0.0903 - val_accuracy: 0.9731\n",
            "Epoch 7/10\n",
            "1875/1875 [==============================] - 6s 3ms/step - loss: 0.0788 - accuracy: 0.9742 - val_loss: 0.0869 - val_accuracy: 0.9735\n",
            "Epoch 8/10\n",
            "1875/1875 [==============================] - 7s 4ms/step - loss: 0.0726 - accuracy: 0.9772 - val_loss: 0.0941 - val_accuracy: 0.9713\n",
            "Epoch 9/10\n",
            "1875/1875 [==============================] - 6s 3ms/step - loss: 0.0687 - accuracy: 0.9777 - val_loss: 0.0819 - val_accuracy: 0.9766\n",
            "Epoch 10/10\n",
            "1875/1875 [==============================] - 7s 4ms/step - loss: 0.0639 - accuracy: 0.9792 - val_loss: 0.0778 - val_accuracy: 0.9777\n"
          ]
        },
        {
          "output_type": "display_data",
          "data": {
            "text/plain": [
              "<Figure size 640x480 with 1 Axes>"
            ],
            "image/png": "[encoded data removed]"
          },
          "metadata": {}
        }
      ]
    },
    {
      "cell_type": "markdown",
      "source": [
        "## 6 모델 저장 및 불러오기"
      ],
      "metadata": {
        "id": "dHrwmuk-0fwP"
      }
    },
    {
      "cell_type": "code",
      "source": [
        "# 6-1 모델을 파일로 저장\n",
        "# HDF5 포맷과 SavedModel 포맷 이렇게 두가지가 있음\n",
        "# HDF5는 대용량의 데이터를 저장하기 위한 파일 형식임\n",
        "model_c.save('h5-model.h5')\n",
        "# 6-2 저장된 모델 복원\n",
        "h5_model=tf.keras.models.load_model('h5-model.h5')\n",
        "h5_model.summary()"
      ],
      "metadata": {
        "colab": {
          "base_uri": "https://localhost:8080/"
        },
        "id": "ODp1oInp0eqX",
        "outputId": "74d57c5b-916a-44d7-994c-2bf876eefe2e"
      },
      "execution_count": 11,
      "outputs": [
        {
          "output_type": "stream",
          "name": "stdout",
          "text": [
            "Model: \"sequential_2\"\n",
            "_________________________________________________________________\n",
            " Layer (type)                Output Shape              Param #   \n",
            "=================================================================\n",
            " flatten_2 (Flatten)         (None, 784)               0         \n",
            "                                                                 \n",
            " dense_12 (Dense)            (None, 64)                50240     \n",
            "                                                                 \n",
            " batch_normalization_2 (Bat  (None, 64)                256       \n",
            " chNormalization)                                                \n",
            "                                                                 \n",
            " leaky_re_lu_2 (LeakyReLU)   (None, 64)                0         \n"
          ]
        },
        {
          "output_type": "stream",
          "name": "stderr",
          "text": [
            "/usr/local/lib/python3.10/dist-packages/keras/src/engine/training.py:3079: UserWarning: You are saving your model as an HDF5 file via `model.save()`. This file format is considered legacy. We recommend using instead the native Keras format, e.g. `model.save('my_model.keras')`.\n",
            "  saving_api.save_model(\n"
          ]
        },
        {
          "output_type": "stream",
          "name": "stdout",
          "text": [
            "                                                                 \n",
            " dense_13 (Dense)            (None, 32)                2080      \n",
            "                                                                 \n",
            " batch_normalization_3 (Bat  (None, 32)                128       \n",
            " chNormalization)                                                \n",
            "                                                                 \n",
            " leaky_re_lu_3 (LeakyReLU)   (None, 32)                0         \n",
            "                                                                 \n",
            " dense_14 (Dense)            (None, 10)                330       \n",
            "                                                                 \n",
            "=================================================================\n",
            "Total params: 53034 (207.16 KB)\n",
            "Trainable params: 52842 (206.41 KB)\n",
            "Non-trainable params: 192 (768.00 Byte)\n",
            "_________________________________________________________________\n"
          ]
        }
      ]
    },
    {
      "cell_type": "code",
      "source": [
        "# 모델 검증\n",
        "loss,acc=h5_model.evaluate(x_test,y_test,verbose=0)\n",
        "print(f'h5 model] loss:{loss:.5f}.acc:{acc:.5f}')"
      ],
      "metadata": {
        "colab": {
          "base_uri": "https://localhost:8080/"
        },
        "id": "stB85IFexRFK",
        "outputId": "7dd091d9-901f-4a15-d77d-bacabe46851d"
      },
      "execution_count": 12,
      "outputs": [
        {
          "output_type": "stream",
          "name": "stdout",
          "text": [
            "h5 model] loss:0.07777.acc:0.97770\n"
          ]
        }
      ]
    },
    {
      "cell_type": "code",
      "source": [
        "# 모델을 SavedModel 포맷으로 저장\n",
        "model_c.save('saved-model')"
      ],
      "metadata": {
        "id": "1-hdhGTcxRDP"
      },
      "execution_count": 13,
      "outputs": []
    },
    {
      "cell_type": "code",
      "source": [
        "# 모델 복원\n",
        "saved_model=tf.keras.models.load_model('saved-model')\n",
        "saved_model.summary()"
      ],
      "metadata": {
        "colab": {
          "base_uri": "https://localhost:8080/"
        },
        "id": "TgGoK-sZxRAm",
        "outputId": "1b7ef122-f9b5-4cd1-db11-169ee9bec702"
      },
      "execution_count": 14,
      "outputs": [
        {
          "output_type": "stream",
          "name": "stdout",
          "text": [
            "Model: \"sequential_2\"\n",
            "_________________________________________________________________\n",
            " Layer (type)                Output Shape              Param #   \n",
            "=================================================================\n",
            " flatten_2 (Flatten)         (None, 784)               0         \n",
            "                                                                 \n",
            " dense_12 (Dense)            (None, 64)                50240     \n",
            "                                                                 \n",
            " batch_normalization_2 (Bat  (None, 64)                256       \n",
            " chNormalization)                                                \n",
            "                                                                 \n",
            " leaky_re_lu_2 (LeakyReLU)   (None, 64)                0         \n",
            "                                                                 \n",
            " dense_13 (Dense)            (None, 32)                2080      \n",
            "                                                                 \n",
            " batch_normalization_3 (Bat  (None, 32)                128       \n",
            " chNormalization)                                                \n",
            "                                                                 \n",
            " leaky_re_lu_3 (LeakyReLU)   (None, 32)                0         \n",
            "                                                                 \n",
            " dense_14 (Dense)            (None, 10)                330       \n",
            "                                                                 \n",
            "=================================================================\n",
            "Total params: 53034 (207.16 KB)\n",
            "Trainable params: 52842 (206.41 KB)\n",
            "Non-trainable params: 192 (768.00 Byte)\n",
            "_________________________________________________________________\n"
          ]
        }
      ]
    },
    {
      "cell_type": "code",
      "source": [
        "# 모델 검증(HDF5 포맷)\n",
        "loss,acc=h5_model.evaluate(x_test,y_test,verbose=0)\n",
        "print(f'h5 model] loss:{loss:.5f}.acc:{acc:.5f}')\n",
        "\n",
        "# 모델 검증(SavedModel 포맷)\n",
        "loss,acc=saved_model.evaluate(x_test,y_test,verbose=0)\n",
        "print(f'h5 model] loss:{loss:.5f}.acc:{acc:.5f}')"
      ],
      "metadata": {
        "colab": {
          "base_uri": "https://localhost:8080/"
        },
        "id": "7DQ5eiQqxQ-N",
        "outputId": "fc76ade7-e9e1-42ca-bfb1-5021f6c048ee"
      },
      "execution_count": 15,
      "outputs": [
        {
          "output_type": "stream",
          "name": "stdout",
          "text": [
            "h5 model] loss:0.07777.acc:0.97770\n",
            "h5 model] loss:0.07777.acc:0.97770\n"
          ]
        }
      ]
    },
    {
      "cell_type": "markdown",
      "source": [
        "## 7 복잡한 모델 생성\n",
        "## 7-1 함수형 API(Functional API)\n",
        "여러 층을 시퀀스 형태로 연결하는 Sequential API와 다르게 Functional API는 복잡한 구조의 모델을 정의할 수 있음."
      ],
      "metadata": {
        "id": "76bWMBb0Y4ZX"
      }
    },
    {
      "cell_type": "code",
      "source": [
        "# 케라스의 내장 데이터셋에서 mnist 데이터셋 로드\n",
        "mnist=tf.keras.datasets.mnist\n",
        "# load_data()로 데이터셋을 로드\n",
        "(x_train, y_train), (x_test, y_test) = mnist.load_data()\n",
        "# 데이터 정규화\n",
        "x_train = x_train / x_train.max()\n",
        "x_test = x_test / x_test.max()\n",
        "# Sequential API\n",
        "model = tf.keras.Sequential([\n",
        "    tf.keras.layers.Flatten(input_shape=(28, 28)),\n",
        "    tf.keras.layers.Dense(256, activation='relu'),\n",
        "    tf.keras.layers.Dense(64, activation='relu'),\n",
        "    tf.keras.layers.Dense(32, activation='relu'),\n",
        "    tf.keras.layers.Dense(10, activation='softmax'),\n",
        "])\n",
        "# 모델의 레이어를 체인 구조로 연결 input 레이어 정의\n",
        "input_layer=tf.keras.Input(shape=(28,28),name='InputLayer')\n",
        "# 모델 레이어를 체인 구조로 연결\n",
        "x1=tf.keras.layers.Flatten(name='Flatten')(input_layer)\n",
        "x2=tf.keras.layers.Dense(256,activation='relu',name='Dense1')(x1)\n",
        "x3=tf.keras.layers.Dense(64,activation='relu',name='Dense2')(x2)\n",
        "x4=tf.keras.layers.Dense(10,activation='softmax',name='Dense3')(x3)\n",
        "# 레이어마다 name 매개변수로 이름 부여 가능\n",
        "# 모델 인스턴스에 대해 summary로 요약 출력할 때 이름이 함께 출력됨\n",
        "# 이렇게 체인 방식으로 연결한 후 tf.keras.Model에 입력 레이어와 출력 레이어를 정의해 모델 생성\n",
        "# 모델 생성\n",
        "func_model=tf.keras.Model(inputs=input_layer,outputs=x4,name='FunctionalModel')\n",
        "# 모델 오약\n",
        "func_model.summary()"
      ],
      "metadata": {
        "colab": {
          "base_uri": "https://localhost:8080/"
        },
        "id": "dY2B2-RrxQ7m",
        "outputId": "b219f5ec-0b25-4aaa-80bd-714076b199e0"
      },
      "execution_count": 16,
      "outputs": [
        {
          "output_type": "stream",
          "name": "stdout",
          "text": [
            "Model: \"FunctionalModel\"\n",
            "_________________________________________________________________\n",
            " Layer (type)                Output Shape              Param #   \n",
            "=================================================================\n",
            " InputLayer (InputLayer)     [(None, 28, 28)]          0         \n",
            "                                                                 \n",
            " Flatten (Flatten)           (None, 784)               0         \n",
            "                                                                 \n",
            " Dense1 (Dense)              (None, 256)               200960    \n",
            "                                                                 \n",
            " Dense2 (Dense)              (None, 64)                16448     \n",
            "                                                                 \n",
            " Dense3 (Dense)              (None, 10)                650       \n",
            "                                                                 \n",
            "=================================================================\n",
            "Total params: 218058 (851.79 KB)\n",
            "Trainable params: 218058 (851.79 KB)\n",
            "Non-trainable params: 0 (0.00 Byte)\n",
            "_________________________________________________________________\n"
          ]
        }
      ]
    },
    {
      "cell_type": "code",
      "source": [
        "from tensorflow.keras.utils import plot_model\n",
        "# 구조도 시각화\n",
        "plot_model(func_model,show_shapes=True,show_layer_names=True,to_file='model.png')"
      ],
      "metadata": {
        "colab": {
          "base_uri": "https://localhost:8080/",
          "height": 533
        },
        "id": "PdhKYnH5xQ5D",
        "outputId": "4e7bfccf-5da5-4cb0-a3e9-836dd6b17add"
      },
      "execution_count": 17,
      "outputs": [
        {
          "output_type": "execute_result",
          "data": {
            "image/png": "[encoded data removed]",
            "text/plain": [
              "<IPython.core.display.Image object>"
            ]
          },
          "metadata": {},
          "execution_count": 17
        }
      ]
    },
    {
      "cell_type": "code",
      "source": [
        "# 함수형 API로 생성한 모델도 Sequential API로 생성한 모델과 동일한 방식으로 훈련할 수 있음\n",
        "# 생성한 모델 인스턴스에 compile 매서드로 모델을 컴파일하고 fit 매서드로 모델을 훈련함\n",
        "# 훈련이 완료된 뒤 evaluate 매서드로 검증해야 함\n",
        "# 컴파일\n",
        "func_model.compile(optimizer='adam',loss='sparse_categorical_crossentropy',\n",
        "                   metrics=['accuracy'])\n",
        "# 훈련\n",
        "func_model.fit(x_train,y_train,epochs=3)\n",
        "# 검증\n",
        "loss,acc=func_model.evaluate(x_test,y_test,verbose=0)\n",
        "print(f'Functional Model]loss:{loss:.5f},acc:{acc:.5f}')\n"
      ],
      "metadata": {
        "colab": {
          "base_uri": "https://localhost:8080/"
        },
        "id": "Y5vsQZkAxQ2V",
        "outputId": "518e0e3d-d544-4eea-fa55-4fe535a9d607"
      },
      "execution_count": 18,
      "outputs": [
        {
          "output_type": "stream",
          "name": "stdout",
          "text": [
            "Epoch 1/3\n",
            "1875/1875 [==============================] - 10s 5ms/step - loss: 0.2154 - accuracy: 0.9356\n",
            "Epoch 2/3\n",
            "1875/1875 [==============================] - 10s 5ms/step - loss: 0.0879 - accuracy: 0.9724\n",
            "Epoch 3/3\n",
            "1875/1875 [==============================] - 10s 5ms/step - loss: 0.0599 - accuracy: 0.9802\n",
            "Functional Model]loss:0.08202,acc:0.97430\n"
          ]
        }
      ]
    },
    {
      "cell_type": "code",
      "source": [
        "# 7-2 모델 서브 클래싱\n",
        "class MyModel(tf.keras.Model):\n",
        "  def __init__(self):\n",
        "    super(MyModel,self).__init__()\n",
        "    # 초기값 설정\n",
        "    self.flatten=tf.keras.layers.Flatten()\n",
        "    self.dense1=tf.keras.layers.Dense(256,activation='relu')\n",
        "    self.dense2=tf.keras.layers.Dense(64,activation='relu')\n",
        "    self.dense3=tf.keras.layers.Dense(10,activation='softmax')\n",
        "    # method overiding\n",
        "    # 훈련용 함수 정의\n",
        "    # x는 input\n",
        "  def call(self,x):\n",
        "    x=self.flatten(x)\n",
        "    x=self.dense1(x)\n",
        "    x=self.dense2(x)\n",
        "    x=self.dense3(x)\n",
        "    return x"
      ],
      "metadata": {
        "id": "gNrwr6DaxQ0L"
      },
      "execution_count": 24,
      "outputs": []
    },
    {
      "cell_type": "code",
      "source": [
        "# 모델 생성\n",
        "mymodel=MyModel()\n",
        "# 모델의 이름 설정\n",
        "mymodel._name='subclass_model'\n",
        "# 모델의 input 정의\n",
        "mymodel(tf.keras.layers.Input(shape=(28,28)))\n",
        "# 모델 요약\n",
        "mymodel.summary()"
      ],
      "metadata": {
        "colab": {
          "base_uri": "https://localhost:8080/"
        },
        "id": "173Ek_nExQxv",
        "outputId": "8eca5803-e109-4ce4-a5db-172af90a74ef"
      },
      "execution_count": 25,
      "outputs": [
        {
          "output_type": "stream",
          "name": "stdout",
          "text": [
            "Model: \"subclass_model\"\n",
            "_________________________________________________________________\n",
            " Layer (type)                Output Shape              Param #   \n",
            "=================================================================\n",
            " flatten_8 (Flatten)         multiple                  0         \n",
            "                                                                 \n",
            " dense_31 (Dense)            multiple                  200960    \n",
            "                                                                 \n",
            " dense_32 (Dense)            multiple                  16448     \n",
            "                                                                 \n",
            " dense_33 (Dense)            multiple                  650       \n",
            "                                                                 \n",
            "=================================================================\n",
            "Total params: 218058 (851.79 KB)\n",
            "Trainable params: 218058 (851.79 KB)\n",
            "Non-trainable params: 0 (0.00 Byte)\n",
            "_________________________________________________________________\n"
          ]
        }
      ]
    },
    {
      "cell_type": "code",
      "source": [
        "# 컴파일\n",
        "mymodel.compile(optimizer='adam',loss='sparse_categorical_crossentropy')\n",
        "# 훈련\n",
        "mymodel.fit(x_train,y_train,epochs=3)"
      ],
      "metadata": {
        "colab": {
          "base_uri": "https://localhost:8080/"
        },
        "id": "6Y20r5ZnxQu_",
        "outputId": "9129b796-5612-4bdb-d59e-83bc108bef5a"
      },
      "execution_count": 29,
      "outputs": [
        {
          "output_type": "stream",
          "name": "stdout",
          "text": [
            "Epoch 1/3\n",
            "1875/1875 [==============================] - 12s 6ms/step - loss: 0.0192\n",
            "Epoch 2/3\n",
            "1875/1875 [==============================] - 12s 6ms/step - loss: 0.0156\n",
            "Epoch 3/3\n",
            "1875/1875 [==============================] - 17s 9ms/step - loss: 0.0131\n"
          ]
        },
        {
          "output_type": "execute_result",
          "data": {
            "text/plain": [
              "<keras.src.callbacks.History at 0x7bae4d133340>"
            ]
          },
          "metadata": {},
          "execution_count": 29
        }
      ]
    },
    {
      "cell_type": "code",
      "source": [
        "# 검증\n",
        "loss=mymodel.evaluate(x_test,y_test,verbose=0)\n",
        "print(f'Subclassing Mdoel]loss:{loss:.5f}')"
      ],
      "metadata": {
        "colab": {
          "base_uri": "https://localhost:8080/"
        },
        "id": "qeLb_uIBKbx_",
        "outputId": "91195043-6a93-4ef7-e567-1caf816cd3f6"
      },
      "execution_count": 36,
      "outputs": [
        {
          "output_type": "stream",
          "name": "stdout",
          "text": [
            "Subclassing Mdoel]loss:0.09980\n"
          ]
        }
      ]
    },
    {
      "cell_type": "code",
      "source": [
        "# 7-3 서브클래싱 모델 파라미터를 활용한 생성\n",
        "class MyModel(tf.keras.Model):\n",
        "  # 생성자 파라미터 추가\n",
        "  def __init__(self,units,num_classes):\n",
        "    super(MyModel,self).__init__()\n",
        "    # 초기값 설정\n",
        "    self.flatten=tf.keras.layers.Flatten()\n",
        "    self.dense1=tf.keras.layers.Dense(units,activation='relu')\n",
        "    self.dense2=tf.keras.layers.Dense(units/4,activation='relu')\n",
        "    self.dense3=tf.keras.layers.Dense(num_classes,activation='softmax')\n",
        "    # method overiding\n",
        "    # 훈련용 함수 정의\n",
        "    # x는 input\n",
        "  def call(self,x):\n",
        "    x=self.flatten(x)\n",
        "    x=self.dense1(x)\n",
        "    x=self.dense2(x)\n",
        "    x=self.dense3(x)\n",
        "    return x"
      ],
      "metadata": {
        "id": "xGGeCFhvJo3v"
      },
      "execution_count": 30,
      "outputs": []
    },
    {
      "cell_type": "code",
      "source": [
        "# 모델 생성\n",
        "mymodel=MyModel(256,10)\n",
        "# 모델의 이름 설정\n",
        "mymodel._name='subclass_model'\n",
        "# 모델의 input 정의\n",
        "mymodel(tf.keras.layers.Input(shape=(28,28)))\n",
        "# 모델 요약\n",
        "mymodel.summary()"
      ],
      "metadata": {
        "colab": {
          "base_uri": "https://localhost:8080/"
        },
        "id": "XgGXEbsqKlhY",
        "outputId": "e298cc56-9834-4b4a-92da-a2c96ab28ed8"
      },
      "execution_count": 37,
      "outputs": [
        {
          "output_type": "stream",
          "name": "stdout",
          "text": [
            "Model: \"subclass_model\"\n",
            "_________________________________________________________________\n",
            " Layer (type)                Output Shape              Param #   \n",
            "=================================================================\n",
            " flatten_9 (Flatten)         multiple                  0         \n",
            "                                                                 \n",
            " dense_34 (Dense)            multiple                  200960    \n",
            "                                                                 \n",
            " dense_35 (Dense)            multiple                  16448     \n",
            "                                                                 \n",
            " dense_36 (Dense)            multiple                  650       \n",
            "                                                                 \n",
            "=================================================================\n",
            "Total params: 218058 (851.79 KB)\n",
            "Trainable params: 218058 (851.79 KB)\n",
            "Non-trainable params: 0 (0.00 Byte)\n",
            "_________________________________________________________________\n"
          ]
        }
      ]
    },
    {
      "cell_type": "code",
      "source": [
        "# 컴파일\n",
        "mymodel.compile(optimizer='adam',loss='sparse_categorical_crossentropy',metrics=['accuracy'])\n",
        "# 훈련\n",
        "mymodel.fit(x_train,y_train,epochs=3)"
      ],
      "metadata": {
        "colab": {
          "base_uri": "https://localhost:8080/"
        },
        "id": "vFQEBtoJLFqE",
        "outputId": "89657f46-d427-4657-e775-4b35c3a168e2"
      },
      "execution_count": 38,
      "outputs": [
        {
          "output_type": "stream",
          "name": "stdout",
          "text": [
            "Epoch 1/3\n",
            "1875/1875 [==============================] - 10s 5ms/step - loss: 0.2122 - accuracy: 0.9375\n",
            "Epoch 2/3\n",
            "1875/1875 [==============================] - 12s 6ms/step - loss: 0.0878 - accuracy: 0.9725\n",
            "Epoch 3/3\n",
            "1875/1875 [==============================] - 9s 5ms/step - loss: 0.0589 - accuracy: 0.9814\n"
          ]
        },
        {
          "output_type": "execute_result",
          "data": {
            "text/plain": [
              "<keras.src.callbacks.History at 0x7bae4fbdf460>"
            ]
          },
          "metadata": {},
          "execution_count": 38
        }
      ]
    },
    {
      "cell_type": "code",
      "source": [
        "# 검증\n",
        "loss,acc=mymodel.evaluate(x_test,y_test,verbose=0)\n",
        "print(f'Subclassing Model]loss:{loss:.5f},acc:{acc:.5f}')"
      ],
      "metadata": {
        "colab": {
          "base_uri": "https://localhost:8080/"
        },
        "id": "2L-YkthNLNhZ",
        "outputId": "89dcf5ad-83ba-45ee-d268-614dd7766b82"
      },
      "execution_count": 41,
      "outputs": [
        {
          "output_type": "stream",
          "name": "stdout",
          "text": [
            "Subclassing Model]loss:0.07856,acc:0.97610\n"
          ]
        }
      ]
    }
  ]
}